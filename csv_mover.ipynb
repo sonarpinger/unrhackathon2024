{
 "cells": [
  {
   "cell_type": "code",
   "execution_count": 1,
   "metadata": {},
   "outputs": [],
   "source": [
    "from choreography import Choreography\n",
    "import csv"
   ]
  },
  {
   "cell_type": "code",
   "execution_count": 2,
   "metadata": {},
   "outputs": [],
   "source": [
    "# create all choreographies\n",
    "dance_moves = Choreography(\n",
    "    name = \"dance-moves\",\n",
    "    threshold = 0,\n",
    "    above_ratio = 1.0,\n",
    "    below_ratio = 0.5,\n",
    "    temporal_size = 25,\n",
    "    sma_window = 10,\n",
    "    min_error = 50,\n",
    "    max_error = 500,\n",
    "    score_timing = 3,\n",
    ")\n",
    "floss_new = Choreography(\n",
    "    name = \"floss-new\",\n",
    "    threshold = 0,\n",
    "    above_ratio = 1.0,\n",
    "    below_ratio = 0.5,\n",
    "    temporal_size = 25,\n",
    "    sma_window = 10,\n",
    "    min_error = 50,\n",
    "    max_error = 500,\n",
    "    score_timing = 3,\n",
    ")\n",
    "gangnam_style = Choreography(\n",
    "    name = \"gangnam-style\",\n",
    "    threshold = 0,\n",
    "    above_ratio = 1.0,\n",
    "    below_ratio = 0.5,\n",
    "    temporal_size = 25,\n",
    "    sma_window = 10,\n",
    "    min_error = 50,\n",
    "    max_error = 500,\n",
    "    score_timing = 3,\n",
    ")\n",
    "get_griddy = Choreography(\n",
    "    name = \"get-griddy\",\n",
    "    threshold = 0,\n",
    "    above_ratio = 1.0,\n",
    "    below_ratio = 0.5,\n",
    "    temporal_size = 25,\n",
    "    sma_window = 10,\n",
    "    min_error = 50,\n",
    "    max_error = 500,\n",
    "    score_timing = 3,\n",
    ")\n",
    "orange_justice = Choreography(\n",
    "    name = \"orange-justice\",\n",
    "    threshold = 0,\n",
    "    above_ratio = 1.0,\n",
    "    below_ratio = 0.5,\n",
    "    temporal_size = 25,\n",
    "    sma_window = 10,\n",
    "    min_error = 50,\n",
    "    max_error = 500,\n",
    "    score_timing = 3,\n",
    ")\n",
    "take_the_l = Choreography(\n",
    "    name = \"take-the-l\",\n",
    "    threshold = 0,\n",
    "    above_ratio = 1.0,\n",
    "    below_ratio = 0.5,\n",
    "    temporal_size = 25,\n",
    "    sma_window = 10,\n",
    "    min_error = 50,\n",
    "    max_error = 500,\n",
    "    score_timing = 3,\n",
    ")"
   ]
  },
  {
   "cell_type": "code",
   "execution_count": 3,
   "metadata": {},
   "outputs": [],
   "source": [
    "# save all chors to csv\n",
    "fp = \"./data/choreographies/chors.csv\"\n",
    "chors = [dance_moves, floss_new, gangnam_style, get_griddy, orange_justice, take_the_l]\n",
    "with open(fp, \"a\", newline = '') as file:\n",
    "    writer = csv.writer(file)\n",
    "    writer.writerow(\n",
    "        [\n",
    "            \"name\", \"threshold\", \"above_ratio\", \"below_ratio\", \"temporal_size\", \"sma_window\", \"min_error\", \"max_error\", \"score_timing\"\n",
    "        ]\n",
    "    )\n",
    "for chor in chors:\n",
    "    Choreography.save_chor_to_csv(fp, chor)"
   ]
  },
  {
   "cell_type": "code",
   "execution_count": 4,
   "metadata": {},
   "outputs": [
    {
     "data": {
      "text/plain": [
       "<choreography.Choreography at 0x7fdde7498a50>"
      ]
     },
     "execution_count": 4,
     "metadata": {},
     "output_type": "execute_result"
    }
   ],
   "source": [
    "# test load\n",
    "fp = \"./data/choreographies/chors.csv\"\n",
    "temp = Choreography.get_chor_from_csv(fp, 'floss-new')\n",
    "temp"
   ]
  },
  {
   "cell_type": "code",
   "execution_count": null,
   "metadata": {},
   "outputs": [],
   "source": []
  }
 ],
 "metadata": {
  "kernelspec": {
   "display_name": "hackathon",
   "language": "python",
   "name": "python3"
  },
  "language_info": {
   "codemirror_mode": {
    "name": "ipython",
    "version": 3
   },
   "file_extension": ".py",
   "mimetype": "text/x-python",
   "name": "python",
   "nbconvert_exporter": "python",
   "pygments_lexer": "ipython3",
   "version": "3.11.4"
  }
 },
 "nbformat": 4,
 "nbformat_minor": 2
}
